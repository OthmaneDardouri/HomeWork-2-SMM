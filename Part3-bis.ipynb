{
 "cells": [
  {
   "cell_type": "code",
   "execution_count": 27,
   "metadata": {},
   "outputs": [],
   "source": [
    "import numpy as np\n",
    "import matplotlib.pyplot as plt\n",
    "import pandas as pd\n",
    "import scipy.io"
   ]
  },
  {
   "cell_type": "markdown",
   "metadata": {},
   "source": [
    "### Loading and splitting the MNIST dataset "
   ]
  },
  {
   "cell_type": "code",
   "execution_count": 28,
   "metadata": {},
   "outputs": [
    {
     "name": "stdout",
     "output_type": "stream",
     "text": [
      "(256, 1707)\n"
     ]
    }
   ],
   "source": [
    "mat_data = scipy.io.loadmat('MNIST.mat')\n",
    "X = mat_data['X']\n",
    "Y = mat_data['I']\n",
    "print(X.shape)"
   ]
  },
  {
   "cell_type": "markdown",
   "metadata": {},
   "source": [
    "### Visualization of the shapes of X and Y"
   ]
  },
  {
   "cell_type": "code",
   "execution_count": 29,
   "metadata": {},
   "outputs": [
    {
     "name": "stdout",
     "output_type": "stream",
     "text": [
      "(256, 1707) (1, 1707)\n"
     ]
    }
   ],
   "source": [
    "print(X.shape, Y.shape)\n",
    "d,N = X.shape\n",
    "size = int(np.sqrt(d))"
   ]
  },
  {
   "cell_type": "markdown",
   "metadata": {},
   "source": [
    "### Extracting an Subset composed only by 3,6 and 9"
   ]
  },
  {
   "cell_type": "code",
   "execution_count": 30,
   "metadata": {},
   "outputs": [],
   "source": [
    "N1 = 3\n",
    "N2 = 6\n",
    "N3 = 9\n",
    "idx = (Y[0,:] == N1) | (Y[0,:] == N2) | (Y[0,:] == N3)\n",
    "Y = Y[:, idx]\n",
    "X = X[:, idx]"
   ]
  },
  {
   "cell_type": "markdown",
   "metadata": {},
   "source": [
    "### Splitting the subset into Training set and Test set"
   ]
  },
  {
   "cell_type": "code",
   "execution_count": 31,
   "metadata": {},
   "outputs": [],
   "source": [
    "def train_test_split(X, Y, N_train):\n",
    "    d,N = X.shape\n",
    "    idx = np.arange(0, N)\n",
    "    np.random.shuffle(idx)\n",
    "    train_idx = idx[:N_train]\n",
    "    test_idx = idx[N_train:]\n",
    "\n",
    "    X_train = X[:,train_idx]\n",
    "    Y_train = Y[:,train_idx]\n",
    "    X_test = X[:,test_idx]\n",
    "    Y_test = Y[:,test_idx]\n",
    "    return X_train,Y_train,X_test,Y_test\n",
    "    \n",
    "X_train,Y_train,X_test,Y_test = train_test_split(X, Y, 250)\n",
    "q_train, w_train = X_train.shape\n",
    "q_train, w_test = X_test.shape"
   ]
  },
  {
   "cell_type": "markdown",
   "metadata": {},
   "source": [
    "### Splitting the Training set into classes C1,C2 and C3"
   ]
  },
  {
   "cell_type": "code",
   "execution_count": 32,
   "metadata": {},
   "outputs": [],
   "source": [
    "idx_1 = (Y_train[0,:] == N1)\n",
    "C_1 = X_train[:, idx_1]\n",
    "idx_2 = (Y_train[0,:] == N2)\n",
    "C_2 = X_train[:, idx_2]\n",
    "idx_3 = (Y_train[0,:] == N3)\n",
    "C_3 = X_train[:, idx_3]"
   ]
  },
  {
   "cell_type": "markdown",
   "metadata": {},
   "source": [
    "### Computing the SVD Decomposition of the three Training sets"
   ]
  },
  {
   "cell_type": "code",
   "execution_count": 33,
   "metadata": {},
   "outputs": [],
   "source": [
    "U_1, s_1, VT_1 = np.linalg.svd(C_1, full_matrices=False)\n",
    "U_2, s_2, VT_2 = np.linalg.svd(C_2, full_matrices=False)\n",
    "U_3, s_3, VT_3 = np.linalg.svd(C_3, full_matrices=False)"
   ]
  },
  {
   "cell_type": "markdown",
   "metadata": {},
   "source": [
    "### Extracting a random element \"y\" from the test set and computing the three projections"
   ]
  },
  {
   "cell_type": "code",
   "execution_count": 34,
   "metadata": {},
   "outputs": [],
   "source": [
    "q, w = X_test.shape\n",
    "a = np.random.randint(1,w)\n",
    "y = X_train[:,0:1]\n",
    "y_1p = U_1 @ (U_1.T @ y)\n",
    "y_2p = U_2 @ (U_2.T @ y)\n",
    "y_3p = U_3 @ (U_3.T @ y)"
   ]
  },
  {
   "cell_type": "markdown",
   "metadata": {},
   "source": [
    "### Misuring the distance of the element \"y\" from the three projections to determine the number "
   ]
  },
  {
   "cell_type": "code",
   "execution_count": 35,
   "metadata": {},
   "outputs": [
    {
     "name": "stdout",
     "output_type": "stream",
     "text": [
      " Distance of Y_1 is 7.736761693790959e-15\n",
      " Distance of Y_2 is 3.4175164009186823\n",
      " Distance of Y_3 is 4.160567288541647\n",
      "It's a 1\n"
     ]
    }
   ],
   "source": [
    "d1 = np.linalg.norm(y - y_1p, 2)\n",
    "d2 = np.linalg.norm(y - y_2p, 2)\n",
    "d3 = np.linalg.norm(y - y_3p, 2)\n",
    "print(f\" Distance of Y_1 is {d1}\")\n",
    "print(f\" Distance of Y_2 is {d2}\")\n",
    "print(f\" Distance of Y_3 is {d3}\")\n",
    "if d1 < d2 and d1 < d3:\n",
    "    print(\"It's a 1\")\n",
    "elif d2 < d1 and d2 < d3:\n",
    "    print(\"It's a 6\")\n",
    "elif d3 < d1 and d3 < d1:\n",
    "    print(\"It's a 8\")"
   ]
  },
  {
   "cell_type": "markdown",
   "metadata": {},
   "source": [
    "### Visualizing the element \"y\""
   ]
  },
  {
   "cell_type": "code",
   "execution_count": 36,
   "metadata": {},
   "outputs": [
    {
     "data": {
      "image/png": "[encoded data removed]",
      "text/plain": [
       "<Figure size 640x480 with 1 Axes>"
      ]
     },
     "metadata": {},
     "output_type": "display_data"
    }
   ],
   "source": [
    "plt.imshow(np.reshape(y[:,0],(size,size)))\n",
    "plt.show()"
   ]
  },
  {
   "cell_type": "markdown",
   "metadata": {},
   "source": [
    "### Calculating the misclassification factor using the test Set"
   ]
  },
  {
   "cell_type": "code",
   "execution_count": 37,
   "metadata": {},
   "outputs": [
    {
     "name": "stdout",
     "output_type": "stream",
     "text": [
      "(1, 1)\n",
      "(256,)\n"
     ]
    }
   ],
   "source": [
    "print(Y_test[:,9:10].shape)\n",
    "print(X_test[:,10].shape)"
   ]
  },
  {
   "cell_type": "code",
   "execution_count": 38,
   "metadata": {},
   "outputs": [
    {
     "name": "stdout",
     "output_type": "stream",
     "text": [
      "The misclassification factor for train data is: 0.0\n"
     ]
    }
   ],
   "source": [
    "misc_factor = 0\n",
    "a = 0\n",
    "for t in range(1,w_train):\n",
    "    y = X_train[:,t-1:t]\n",
    "    y_1p = U_1 @ (U_1.T @ y)\n",
    "    y_2p = U_2 @ (U_2.T @ y)\n",
    "    y_3p = U_3 @ (U_3.T @ y)\n",
    "    d1 = np.linalg.norm(y - y_1p, 2)\n",
    "    d2 = np.linalg.norm(y - y_2p, 2)\n",
    "    d3 = np.linalg.norm(y - y_3p, 2)\n",
    "    if d1 < d2 and d1 < d3:\n",
    "        a = N1\n",
    "    elif d2 < d1 and d2 < d3:\n",
    "        a = N2\n",
    "    elif d3 < d1 and d3 < d1:\n",
    "        a = N3\n",
    "    if a!= Y_train[0,t-1]:\n",
    "        misc_factor +=1\n",
    "misc_factor /= w_train\n",
    "print(f\"The misclassification factor for train data is: {misc_factor}\")"
   ]
  },
  {
   "cell_type": "code",
   "execution_count": 39,
   "metadata": {},
   "outputs": [
    {
     "name": "stdout",
     "output_type": "stream",
     "text": [
      "The misclassification factor for test data is: 0.018292682926829267\n"
     ]
    }
   ],
   "source": [
    "misc_factor = 0\n",
    "a = 0\n",
    "for t in range(1,w_test):\n",
    "    y = X_test[:,t-1:t]\n",
    "    y_1p = U_1 @ (U_1.T @ y)\n",
    "    y_2p = U_2 @ (U_2.T @ y)\n",
    "    y_3p = U_3 @ (U_3.T @ y)\n",
    "    d1 = np.linalg.norm(y - y_1p, 2)\n",
    "    d2 = np.linalg.norm(y - y_2p, 2)\n",
    "    d3 = np.linalg.norm(y - y_3p, 2)\n",
    "    if d1 < d2 and d1 < d3:\n",
    "        a = N1\n",
    "    elif d2 < d1 and d2 < d3:\n",
    "        a = N2\n",
    "    elif d3 < d1 and d3 < d1:\n",
    "        a = N3\n",
    "    if a!= Y_test[0,t-1]:\n",
    "        misc_factor +=1\n",
    "misc_factor /= w_test\n",
    "print(f\"The misclassification factor for test data is: {misc_factor}\")"
   ]
  }
 ],
 "metadata": {
  "kernelspec": {
   "display_name": "Python 3",
   "language": "python",
   "name": "python3"
  },
  "language_info": {
   "codemirror_mode": {
    "name": "ipython",
    "version": 3
   },
   "file_extension": ".py",
   "mimetype": "text/x-python",
   "name": "python",
   "nbconvert_exporter": "python",
   "pygments_lexer": "ipython3",
   "version": "3.12.0"
  }
 },
 "nbformat": 4,
 "nbformat_minor": 2
}

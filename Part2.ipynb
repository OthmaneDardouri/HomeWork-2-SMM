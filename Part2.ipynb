{
 "cells": [
  {
   "cell_type": "code",
   "execution_count": 197,
   "metadata": {},
   "outputs": [],
   "source": [
    "import numpy as np\n",
    "import matplotlib.pyplot as plt\n",
    "import pandas as pd\n",
    "import scipy.io"
   ]
  },
  {
   "cell_type": "markdown",
   "metadata": {},
   "source": [
    "### Load and split of the MNIST dataset "
   ]
  },
  {
   "cell_type": "code",
   "execution_count": 198,
   "metadata": {},
   "outputs": [],
   "source": [
    "mat_data = scipy.io.loadmat('MNIST.mat')\n",
    "X = mat_data['X']\n",
    "Y = mat_data['I']"
   ]
  },
  {
   "cell_type": "markdown",
   "metadata": {},
   "source": [
    "### Showing the shapes of X and Y"
   ]
  },
  {
   "cell_type": "code",
   "execution_count": 199,
   "metadata": {},
   "outputs": [
    {
     "name": "stdout",
     "output_type": "stream",
     "text": [
      "(256, 1707) (1, 1707)\n"
     ]
    }
   ],
   "source": [
    "print(X.shape, Y.shape)\n",
    "d,N = X.shape\n",
    "size = int(np.sqrt(d))\n",
    "train_size = 180"
   ]
  },
  {
   "cell_type": "markdown",
   "metadata": {},
   "source": [
    "### Plot of 4 random elements of the dataset"
   ]
  },
  {
   "cell_type": "code",
   "execution_count": 200,
   "metadata": {},
   "outputs": [
    {
     "data": {
      "image/png": "[encoded data removed]",
      "text/plain": [
       "<Figure size 640x480 with 4 Axes>"
      ]
     },
     "metadata": {},
     "output_type": "display_data"
    }
   ],
   "source": [
    "X_1 = np.reshape(X[:,9],(size,size))\n",
    "plt.subplot(2,2,1)\n",
    "plt.imshow(X_1,'gray')\n",
    "X_2 = np.reshape(X[:,5],(size,size))\n",
    "plt.subplot(2,2,2)\n",
    "plt.imshow(X_2,'gray')\n",
    "X_3 = np.reshape(X[:,23],(size,size))\n",
    "plt.subplot(2,2,3)\n",
    "plt.imshow(X_3,'gray')\n",
    "X_4 = np.reshape(X[:,44],(size,size))\n",
    "plt.subplot(2,2,4)\n",
    "plt.imshow(X_4,'gray')\n",
    "plt.show()"
   ]
  },
  {
   "cell_type": "markdown",
   "metadata": {},
   "source": [
    "### Extracting a subset composed only by 3 and 4"
   ]
  },
  {
   "cell_type": "code",
   "execution_count": 201,
   "metadata": {},
   "outputs": [
    {
     "name": "stdout",
     "output_type": "stream",
     "text": [
      "(256, 253)\n"
     ]
    }
   ],
   "source": [
    "N1 = 3\n",
    "N2 = 4\n",
    "idx = (Y[0,:] == N1) | (Y[0,:] == N2)\n",
    "Y = Y[:, idx]\n",
    "X = X[:, idx]\n",
    "print(X.shape)"
   ]
  },
  {
   "cell_type": "markdown",
   "metadata": {},
   "source": [
    "### Splitting the subset into Training set and Test set"
   ]
  },
  {
   "cell_type": "code",
   "execution_count": 202,
   "metadata": {},
   "outputs": [],
   "source": [
    "def train_test_split(X, Y, N_train):\n",
    "    d,N = X.shape\n",
    "    idx = np.arange(0, N)\n",
    "    np.random.shuffle(idx)\n",
    "    train_idx = idx[:N_train]\n",
    "    test_idx = idx[N_train:]\n",
    "    X_train = X[:,train_idx]\n",
    "    Y_train = Y[:,train_idx]\n",
    "    X_test = X[:,test_idx]\n",
    "    Y_test = Y[:,test_idx]\n",
    "    return X_train,Y_train,X_test,Y_test\n",
    "    \n",
    "X_train,Y_train,X_test,Y_test = train_test_split(X, Y, 100)\n",
    "q_train, w_train = X_train.shape\n",
    "q_train, w_test = X_test.shape"
   ]
  },
  {
   "cell_type": "markdown",
   "metadata": {},
   "source": [
    "### Splitting the Training set into classes C1 and C2"
   ]
  },
  {
   "cell_type": "code",
   "execution_count": 203,
   "metadata": {},
   "outputs": [],
   "source": [
    "idx_1 = (Y_train[0,:] == N1)\n",
    "C_1 = X_train[:, idx_1]\n",
    "idx_2 = (Y_train[0,:] == N2)\n",
    "C_2 = X_train[:, idx_2]"
   ]
  },
  {
   "cell_type": "markdown",
   "metadata": {},
   "source": [
    "### Computing the SVD Decomposition of the two Training sets"
   ]
  },
  {
   "cell_type": "code",
   "execution_count": 204,
   "metadata": {},
   "outputs": [],
   "source": [
    "U_1, s_1, VT_1 = np.linalg.svd(C_1, full_matrices=False)\n",
    "U_2, s_2, VT_2 = np.linalg.svd(C_2, full_matrices=False)"
   ]
  },
  {
   "cell_type": "markdown",
   "metadata": {},
   "source": [
    "### Extracting a random element \"y\" from the test set and computing the two projections\n"
   ]
  },
  {
   "cell_type": "code",
   "execution_count": 205,
   "metadata": {},
   "outputs": [],
   "source": [
    "a = np.random.randint(1,w_test)\n",
    "y = X_test[:,a-1:a]\n",
    "y_1p = U_1 @ (U_1.T @ y)\n",
    "y_2p = U_2 @ (U_2.T @ y)"
   ]
  },
  {
   "cell_type": "markdown",
   "metadata": {},
   "source": [
    "### Misuring the distance of the element \"y\" from the two projections to determine the number "
   ]
  },
  {
   "cell_type": "code",
   "execution_count": 206,
   "metadata": {},
   "outputs": [
    {
     "name": "stdout",
     "output_type": "stream",
     "text": [
      " Distance of Y_1 is 3.8603860827340575\n",
      " Distance of Y_2 is 1.9075490317631898\n",
      "It's a 4\n"
     ]
    }
   ],
   "source": [
    "d1 = np.linalg.norm(y - y_1p, 2)\n",
    "d2 = np.linalg.norm(y - y_2p, 2)\n",
    "print(f\" Distance of Y_1 is {d1}\")\n",
    "print(f\" Distance of Y_2 is {d2}\")\n",
    "if d1 < d2:\n",
    "    print(f\"It's a {N1}\")\n",
    "else:\n",
    "    print(f\"It's a {N2}\")"
   ]
  },
  {
   "cell_type": "markdown",
   "metadata": {},
   "source": [
    "### Visualizing the element \"y\""
   ]
  },
  {
   "cell_type": "code",
   "execution_count": 207,
   "metadata": {},
   "outputs": [
    {
     "data": {
      "image/png": "[encoded data removed]",
      "text/plain": [
       "<Figure size 640x480 with 1 Axes>"
      ]
     },
     "metadata": {},
     "output_type": "display_data"
    }
   ],
   "source": [
    "plt.imshow(np.reshape(y[:,0],(size,size)))\n",
    "plt.show()"
   ]
  },
  {
   "cell_type": "code",
   "execution_count": 208,
   "metadata": {},
   "outputs": [
    {
     "name": "stdout",
     "output_type": "stream",
     "text": [
      "(256, 59)\n"
     ]
    }
   ],
   "source": [
    "print(U_1.shape)"
   ]
  },
  {
   "cell_type": "code",
   "execution_count": 209,
   "metadata": {},
   "outputs": [
    {
     "name": "stdout",
     "output_type": "stream",
     "text": [
      "The misclassification rate for the training data is: 0.0\n"
     ]
    }
   ],
   "source": [
    "misc_factor = 0\n",
    "a = 0\n",
    "for t in range(1,w_train):\n",
    "    y = X_train[:,t-1:t]\n",
    "    y_1p = U_1 @ (U_1.T @ y)\n",
    "    y_2p = U_2 @ (U_2.T @ y)\n",
    "    d1 = np.linalg.norm(y - y_1p, 2)\n",
    "    d2 = np.linalg.norm(y - y_2p, 2)\n",
    "    #print(d1,d2)\n",
    "    if d1 < d2 :\n",
    "        a = N1\n",
    "    else:\n",
    "        a = N2\n",
    "    if a!= Y_train[0,t-1]:\n",
    "        misc_factor +=1\n",
    "        #print(a,Y_test[0,t])\n",
    "misc_factor /= w_train\n",
    "print(f\"The misclassification rate for the training data is: {misc_factor}\")"
   ]
  },
  {
   "cell_type": "code",
   "execution_count": 210,
   "metadata": {},
   "outputs": [
    {
     "name": "stdout",
     "output_type": "stream",
     "text": [
      "The misclassification rate for the test data is: 0.006535947712418301\n"
     ]
    }
   ],
   "source": [
    "misc_factor = 0\n",
    "a = 0\n",
    "for t in range(1,w_test):\n",
    "    y = X_test[:,t-1:t]\n",
    "    y_1p = U_1 @ (U_1.T @ y)\n",
    "    y_2p = U_2 @ (U_2.T @ y)\n",
    "    d1 = np.linalg.norm(y - y_1p, 2)\n",
    "    d2 = np.linalg.norm(y - y_2p, 2)\n",
    "    #print(d1,d2)\n",
    "    if d1 < d2 :\n",
    "        a = N1\n",
    "    else:\n",
    "        a = N2\n",
    "    if a!= Y_test[0,t-1]:\n",
    "        misc_factor +=1\n",
    "        #print(a,Y_test[0,t])\n",
    "misc_factor /= w_test\n",
    "print(f\"The misclassification rate for the test data is: {misc_factor}\")"
   ]
  }
 ],
 "metadata": {
  "kernelspec": {
   "display_name": "Python 3",
   "language": "python",
   "name": "python3"
  },
  "language_info": {
   "codemirror_mode": {
    "name": "ipython",
    "version": 3
   },
   "file_extension": ".py",
   "mimetype": "text/x-python",
   "name": "python",
   "nbconvert_exporter": "python",
   "pygments_lexer": "ipython3",
   "version": "3.12.0"
  },
  "orig_nbformat": 4
 },
 "nbformat": 4,
 "nbformat_minor": 2
}
